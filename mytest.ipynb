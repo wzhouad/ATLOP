{
 "cells": [
  {
   "cell_type": "code",
   "execution_count": 35,
   "metadata": {},
   "outputs": [],
   "source": [
    "import ujson as json\n",
    "from transformers import AutoTokenizer\n",
    "with open(\"dataset/docred/rel_info.json\", \"r\") as fh:\n",
    "        data = json.load(fh)\n",
    "\n",
    "docred_rel2id = json.load(open('meta/rel2id.json', 'r'))"
   ]
  },
  {
   "cell_type": "code",
   "execution_count": 37,
   "metadata": {},
   "outputs": [],
   "source": [
    "tokenizer = AutoTokenizer.from_pretrained(\"roberta-large\")"
   ]
  },
  {
   "cell_type": "code",
   "execution_count": 38,
   "metadata": {},
   "outputs": [
    {
     "data": {
      "text/plain": [
       "{'bos_token': '<s>',\n",
       " 'eos_token': '</s>',\n",
       " 'unk_token': '<unk>',\n",
       " 'sep_token': '</s>',\n",
       " 'pad_token': '<pad>',\n",
       " 'cls_token': '<s>',\n",
       " 'mask_token': '<mask>'}"
      ]
     },
     "execution_count": 38,
     "metadata": {},
     "output_type": "execute_result"
    }
   ],
   "source": [
    "tokenizer.special_tokens_map"
   ]
  },
  {
   "cell_type": "code",
   "execution_count": 41,
   "metadata": {},
   "outputs": [],
   "source": [
    "id_rels = [(docred_rel2id[d], d, data[d]) for d in data]\n",
    "id_rels.sort(key=lambda x: x[0])\n",
    "id_rels = [(0, \"\", 'no relation')] + id_rels\n",
    "rels = [[\"*\"]+tokenizer.tokenize(item[2])+[\"*\"] for item in id_rels]\n",
    "rels, rel_pos = [], []\n",
    "for item in id_rels:\n",
    "    rel_pos.append(len(rels)+1)\n",
    "    rels.extend([\"*\"]+tokenizer.tokenize(item[2])+[\"*\"])\n",
    "\n",
    "input_ids = tokenizer.convert_tokens_to_ids(rels)\n",
    "input_ids = tokenizer.build_inputs_with_special_tokens(input_ids)"
   ]
  },
  {
   "cell_type": "code",
   "execution_count": 52,
   "metadata": {},
   "outputs": [
    {
     "name": "stdout",
     "output_type": "stream",
     "text": [
      "97\n",
      "453\n"
     ]
    }
   ],
   "source": [
    "print(len(id_rels))\n",
    "print(len(input_ids))"
   ]
  },
  {
   "cell_type": "code",
   "execution_count": 44,
   "metadata": {},
   "outputs": [
    {
     "name": "stdout",
     "output_type": "stream",
     "text": [
      "[(0, '', 'no relation'), (1, 'P17', 'country'), (2, 'P131', 'located in the administrative territorial entity'), (3, 'P27', 'country of citizenship'), (4, 'P150', 'contains administrative territorial entity'), (5, 'P577', 'publication date'), (6, 'P175', 'performer'), (7, 'P569', 'date of birth'), (8, 'P570', 'date of death'), (9, 'P161', 'cast member'), (10, 'P264', 'record label'), (11, 'P527', 'has part'), (12, 'P361', 'part of'), (13, 'P495', 'country of origin'), (14, 'P19', 'place of birth'), (15, 'P571', 'inception'), (16, 'P54', 'member of sports team'), (17, 'P102', 'member of political party'), (18, 'P463', 'member of'), (19, 'P3373', 'sibling'), (20, 'P40', 'child'), (21, 'P30', 'continent'), (22, 'P50', 'author'), (23, 'P1441', 'present in work'), (24, 'P1001', 'applies to jurisdiction'), (25, 'P69', 'educated at'), (26, 'P26', 'spouse'), (27, 'P607', 'conflict'), (28, 'P57', 'director'), (29, 'P159', 'headquarters location'), (30, 'P22', 'father'), (31, 'P400', 'platform'), (32, 'P1344', 'participant of'), (33, 'P206', 'located in or next to body of water'), (34, 'P127', 'owned by'), (35, 'P170', 'creator'), (36, 'P178', 'developer'), (37, 'P20', 'place of death'), (38, 'P1412', 'languages spoken, written or signed'), (39, 'P155', 'follows'), (40, 'P118', 'league'), (41, 'P710', 'participant'), (42, 'P6', 'head of government'), (43, 'P108', 'employer'), (44, 'P276', 'location'), (45, 'P156', 'followed by'), (46, 'P674', 'characters'), (47, 'P166', 'award received'), (48, 'P194', 'legislative body'), (49, 'P123', 'publisher'), (50, 'P140', 'religion'), (51, 'P800', 'notable work'), (52, 'P449', 'original network'), (53, 'P58', 'screenwriter'), (54, 'P35', 'head of state'), (55, 'P179', 'series'), (56, 'P706', 'located on terrain feature'), (57, 'P162', 'producer'), (58, 'P37', 'official language'), (59, 'P241', 'military branch'), (60, 'P31', 'instance of'), (61, 'P403', 'mouth of the watercourse'), (62, 'P580', 'start time'), (63, 'P137', 'operator'), (64, 'P585', 'point in time'), (65, 'P112', 'founded by'), (66, 'P86', 'composer'), (67, 'P176', 'manufacturer'), (68, 'P749', 'parent organization'), (69, 'P937', 'work location'), (70, 'P36', 'capital'), (71, 'P576', 'dissolved, abolished or demolished'), (72, 'P355', 'subsidiary'), (73, 'P136', 'genre'), (74, 'P364', 'original language of work'), (75, 'P272', 'production company'), (76, 'P172', 'ethnic group'), (77, 'P205', 'basin country'), (78, 'P279', 'subclass of'), (79, 'P1376', 'capital of'), (80, 'P171', 'parent taxon'), (81, 'P25', 'mother'), (82, 'P488', 'chairperson'), (83, 'P582', 'end time'), (84, 'P740', 'location of formation'), (85, 'P840', 'narrative location'), (86, 'P1366', 'replaced by'), (87, 'P676', 'lyrics by'), (88, 'P1336', 'territory claimed by'), (89, 'P1056', 'product or material produced'), (90, 'P551', 'residence'), (91, 'P39', 'position held'), (92, 'P1365', 'replaces'), (93, 'P737', 'influenced by'), (94, 'P190', 'sister city'), (95, 'P807', 'separated from'), (96, 'P1198', 'unemployment rate')]\n",
      "['*', 'no', 'Ġrelation', '*', '*', 'country', '*', '*', 'l', 'ocated', 'Ġin', 'Ġthe', 'Ġadministrative', 'Ġterritorial', 'Ġentity', '*', '*', 'country', 'Ġof', 'Ġcitizenship', '*', '*', 'cont', 'ains', 'Ġadministrative', 'Ġterritorial', 'Ġentity', '*', '*', 'public', 'ation', 'Ġdate', '*', '*', 'per', 'former', '*', '*', 'date', 'Ġof', 'Ġbirth', '*', '*', 'date', 'Ġof', 'Ġdeath', '*', '*', 'cast', 'Ġmember', '*', '*', 'record', 'Ġlabel', '*', '*', 'has', 'Ġpart', '*', '*', 'part', 'Ġof', '*', '*', 'country', 'Ġof', 'Ġorigin', '*', '*', 'place', 'Ġof', 'Ġbirth', '*', '*', 'ince', 'ption', '*', '*', 'member', 'Ġof', 'Ġsports', 'Ġteam', '*', '*', 'member', 'Ġof', 'Ġpolitical', 'Ġparty', '*', '*', 'member', 'Ġof', '*', '*', 's', 'ibling', '*', '*', 'child', '*', '*', 'cont', 'inent', '*', '*', 'author', '*', '*', 'present', 'Ġin', 'Ġwork', '*', '*', 'app', 'lies', 'Ġto', 'Ġjurisdiction', '*', '*', 'educated', 'Ġat', '*', '*', 'sp', 'ouse', '*', '*', 'conf', 'lict', '*', '*', 'director', '*', '*', 'head', 'quarters', 'Ġlocation', '*', '*', 'father', '*', '*', 'platform', '*', '*', 'particip', 'ant', 'Ġof', '*', '*', 'l', 'ocated', 'Ġin', 'Ġor', 'Ġnext', 'Ġto', 'Ġbody', 'Ġof', 'Ġwater', '*', '*', 'owned', 'Ġby', '*', '*', 'creator', '*', '*', 'develop', 'er', '*', '*', 'place', 'Ġof', 'Ġdeath', '*', '*', 'l', 'anguages', 'Ġspoken', ',', 'Ġwritten', 'Ġor', 'Ġsigned', '*', '*', 'follow', 's', '*', '*', 'league', '*', '*', 'particip', 'ant', '*', '*', 'head', 'Ġof', 'Ġgovernment', '*', '*', 'employ', 'er', '*', '*', 'location', '*', '*', 'follow', 'ed', 'Ġby', '*', '*', 'char', 'acters', '*', '*', 'aw', 'ard', 'Ġreceived', '*', '*', 'leg', 'isl', 'ative', 'Ġbody', '*', '*', 'pub', 'lisher', '*', '*', 'rel', 'igion', '*', '*', 'not', 'able', 'Ġwork', '*', '*', 'original', 'Ġnetwork', '*', '*', 'screen', 'writer', '*', '*', 'head', 'Ġof', 'Ġstate', '*', '*', 'series', '*', '*', 'l', 'ocated', 'Ġon', 'Ġterrain', 'Ġfeature', '*', '*', 'produ', 'cer', '*', '*', 'official', 'Ġlanguage', '*', '*', 'military', 'Ġbranch', '*', '*', 'instance', 'Ġof', '*', '*', 'mouth', 'Ġof', 'Ġthe', 'Ġwater', 'course', '*', '*', 'start', 'Ġtime', '*', '*', 'operator', '*', '*', 'point', 'Ġin', 'Ġtime', '*', '*', 'founded', 'Ġby', '*', '*', 'com', 'pos', 'er', '*', '*', 'manufact', 'urer', '*', '*', 'parent', 'Ġorganization', '*', '*', 'work', 'Ġlocation', '*', '*', 'capital', '*', '*', 'd', 'iss', 'olved', ',', 'Ġabolished', 'Ġor', 'Ġdemolished', '*', '*', 'sub', 'sid', 'iary', '*', '*', 'genre', '*', '*', 'original', 'Ġlanguage', 'Ġof', 'Ġwork', '*', '*', 'production', 'Ġcompany', '*', '*', 'ethnic', 'Ġgroup', '*', '*', 'bas', 'in', 'Ġcountry', '*', '*', 'sub', 'class', 'Ġof', '*', '*', 'capital', 'Ġof', '*', '*', 'parent', 'Ġtax', 'on', '*', '*', 'mother', '*', '*', 'chair', 'person', '*', '*', 'end', 'Ġtime', '*', '*', 'location', 'Ġof', 'Ġformation', '*', '*', 'n', 'arr', 'ative', 'Ġlocation', '*', '*', 're', 'placed', 'Ġby', '*', '*', 'ly', 'rics', 'Ġby', '*', '*', 'ter', 'rit', 'ory', 'Ġclaimed', 'Ġby', '*', '*', 'product', 'Ġor', 'Ġmaterial', 'Ġproduced', '*', '*', 'res', 'idence', '*', '*', 'position', 'Ġheld', '*', '*', 're', 'places', '*', '*', 'inf', 'lu', 'enced', 'Ġby', '*', '*', 's', 'ister', 'Ġcity', '*', '*', 'separ', 'ated', 'Ġfrom', '*', '*', 'un', 'employment', 'Ġrate', '*']\n",
      "[1, 5, 8, 17, 22, 29, 34, 38, 43, 48, 52, 56, 60, 64, 69, 74, 78, 84, 90, 94, 98, 101, 105, 108, 113, 119, 123, 127, 131, 134, 139, 142, 145, 150, 161, 165, 168, 172, 177, 186, 190, 193, 197, 202, 206, 209, 214, 218, 223, 229, 233, 237, 242, 246, 250, 255, 258, 265, 269, 273, 277, 281, 288, 292, 295, 300, 304, 309, 313, 317, 321, 324, 333, 338, 341, 347, 351, 355, 360, 365, 369, 374, 377, 381, 385, 390, 396, 401, 406, 413, 419, 423, 427, 431, 437, 442, 447]\n",
      "[0, 3226, 2362, 9355, 3226, 3226, 12659, 3226, 3226, 462, 23283, 11, 5, 6833, 15752, 10014, 3226, 3226, 12659, 9, 8860, 3226, 3226, 10800, 5069, 6833, 15752, 10014, 3226, 3226, 15110, 1258, 1248, 3226, 3226, 1741, 22098, 3226, 3226, 10672, 9, 3113, 3226, 3226, 10672, 9, 744, 3226, 3226, 5182, 919, 3226, 3226, 14760, 6929, 3226, 3226, 7333, 233, 3226, 3226, 7755, 9, 3226, 3226, 12659, 9, 9813, 3226, 3226, 6406, 9, 3113, 3226, 3226, 15062, 24802, 3226, 3226, 8648, 9, 1612, 165, 3226, 3226, 8648, 9, 559, 537, 3226, 3226, 8648, 9, 3226, 3226, 29, 46514, 3226, 3226, 14069, 3226, 3226, 10800, 19336, 3226, 3226, 11515, 3226, 3226, 25870, 11, 173, 3226, 3226, 3340, 15124, 7, 10542, 3226, 3226, 26414, 23, 3226, 3226, 4182, 11556, 3226, 3226, 17075, 29525, 3226, 3226, 19709, 3226, 3226, 3628, 21899, 2259, 3226, 3226, 14891, 3226, 3226, 29912, 3226, 3226, 42038, 927, 9, 3226, 3226, 462, 23283, 11, 50, 220, 7, 809, 9, 514, 3226, 3226, 4447, 30, 3226, 3226, 37652, 3226, 3226, 34335, 254, 3226, 3226, 6406, 9, 744, 3226, 3226, 462, 48957, 5826, 6, 1982, 50, 1419, 3226, 3226, 28481, 29, 3226, 3226, 10925, 3226, 3226, 42038, 927, 3226, 3226, 3628, 9, 168, 3226, 3226, 32198, 254, 3226, 3226, 41829, 3226, 3226, 28481, 196, 30, 3226, 3226, 24262, 48060, 3226, 3226, 1584, 1120, 829, 3226, 3226, 4308, 13714, 3693, 809, 3226, 3226, 22478, 45487, 3226, 3226, 5982, 43617, 3226, 3226, 3654, 868, 173, 3226, 3226, 34545, 1546, 3226, 3226, 9806, 9408, 3226, 3226, 3628, 9, 194, 3226, 3226, 22760, 3226, 3226, 462, 23283, 15, 15890, 1905, 3226, 3226, 26790, 7742, 3226, 3226, 24132, 2777, 3226, 3226, 29317, 6084, 3226, 3226, 48768, 9, 3226, 3226, 13848, 9, 5, 514, 21282, 3226, 3226, 13124, 86, 3226, 3226, 45180, 3226, 3226, 2300, 11, 86, 3226, 3226, 17724, 30, 3226, 3226, 175, 11474, 254, 3226, 3226, 29280, 24653, 3226, 3226, 20985, 1651, 3226, 3226, 6014, 2259, 3226, 3226, 25539, 3226, 3226, 417, 3006, 19084, 6, 33110, 50, 20766, 3226, 3226, 10936, 24301, 17174, 3226, 3226, 44205, 3226, 3226, 34545, 2777, 9, 173, 3226, 3226, 22862, 138, 3226, 3226, 38211, 333, 3226, 3226, 15609, 179, 247, 3226, 3226, 10936, 4684, 9, 3226, 3226, 25539, 9, 3226, 3226, 20985, 629, 261, 3226, 3226, 19456, 3226, 3226, 13599, 5970, 3226, 3226, 1397, 86, 3226, 3226, 41829, 9, 9285, 3226, 3226, 282, 6166, 3693, 2259, 3226, 3226, 241, 12459, 30, 3226, 3226, 352, 18715, 30, 3226, 3226, 1334, 3961, 4405, 1695, 30, 3226, 3226, 20565, 50, 1468, 2622, 3226, 3226, 1535, 17444, 3226, 3226, 14413, 547, 3226, 3226, 241, 23454, 3226, 3226, 9433, 6487, 19867, 30, 3226, 3226, 29, 4742, 343, 3226, 3226, 39114, 1070, 31, 3226, 3226, 879, 37011, 731, 3226, 2]\n"
     ]
    }
   ],
   "source": [
    "print(id_rels)\n",
    "print(rels)\n",
    "print(rel_pos)\n",
    "print(input_ids)"
   ]
  },
  {
   "cell_type": "code",
   "execution_count": 53,
   "metadata": {},
   "outputs": [],
   "source": [
    "import torch\n",
    "a = torch.load(\"dataset/docred/rel_info.json.roberta-large.pt\")"
   ]
  },
  {
   "cell_type": "code",
   "execution_count": 57,
   "metadata": {},
   "outputs": [
    {
     "data": {
      "text/plain": [
       "453"
      ]
     },
     "execution_count": 57,
     "metadata": {},
     "output_type": "execute_result"
    }
   ],
   "source": [
    "len(a[\"input_ids\"])"
   ]
  }
 ],
 "metadata": {
  "kernelspec": {
   "display_name": "KD-DOCRE",
   "language": "python",
   "name": "python3"
  },
  "language_info": {
   "codemirror_mode": {
    "name": "ipython",
    "version": 3
   },
   "file_extension": ".py",
   "mimetype": "text/x-python",
   "name": "python",
   "nbconvert_exporter": "python",
   "pygments_lexer": "ipython3",
   "version": "3.7.4"
  },
  "orig_nbformat": 4
 },
 "nbformat": 4,
 "nbformat_minor": 2
}
